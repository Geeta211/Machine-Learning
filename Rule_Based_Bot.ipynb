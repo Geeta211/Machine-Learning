{
  "nbformat": 4,
  "nbformat_minor": 0,
  "metadata": {
    "colab": {
      "provenance": [],
      "authorship_tag": "ABX9TyOBx1hv1t6q21SQNuvExqXI",
      "include_colab_link": true
    },
    "kernelspec": {
      "name": "python3",
      "display_name": "Python 3"
    },
    "language_info": {
      "name": "python"
    }
  },
  "cells": [
    {
      "cell_type": "markdown",
      "metadata": {
        "id": "view-in-github",
        "colab_type": "text"
      },
      "source": [
        "<a href=\"https://colab.research.google.com/github/Geeta211/Machine-Learning/blob/main/Rule_Based_Bot.ipynb\" target=\"_parent\"><img src=\"https://colab.research.google.com/assets/colab-badge.svg\" alt=\"Open In Colab\"/></a>"
      ]
    },
    {
      "cell_type": "code",
      "source": [
        "import re\n",
        "import random"
      ],
      "metadata": {
        "id": "PVScZU1sPU36"
      },
      "execution_count": null,
      "outputs": []
    },
    {
      "cell_type": "code",
      "execution_count": null,
      "metadata": {
        "id": "wxjCsRk6PTL1"
      },
      "outputs": [],
      "source": [
        "class RuleBot:\n",
        "    negative_responses = (\"no\", \"nope\", \"nah\", \"not a chance\", \"sorry\", \"naw\")\n",
        "    exit_commands = (\"quit\", \"pause\", \"exit\", \"goodbye\", \"bye\", \"later\")\n",
        "    random_questions = (\n",
        "        \"Why are you here?\\n\",\n",
        "        \"Are there any humans like you?\\n\",\n",
        "        \"What do you consume for sustenance?\\n\",\n",
        "        \"Is there intelligent life on this planet?\\n\",\n",
        "        \"Does Earth have a leader?\\n\",\n",
        "        \"What planets have you visited?\\n\",\n",
        "        \"What technology do you have on this planet?\\n\"\n",
        "    )\n",
        "\n",
        "    def __init__(self):\n",
        "        self.alienbabble = {\n",
        "            'describe_planet_intent': r'.*\\s*your planet.*',\n",
        "            'answer_why_intent': r'why\\sare.*',\n",
        "            'about_intellipat': r'.*\\s*intellipat.*'\n",
        "        }\n",
        "\n",
        "    def greet(self):\n",
        "        self.name = input(\"What is your name?\\n\")\n",
        "        will_help = input(f\"Hi {self.name}, I am Rule-Bot. Will you help me learn about your planet?\\n\")\n",
        "        if will_help.lower() in self.negative_responses:\n",
        "            print(\"Okay, have a nice Earth day!\")\n",
        "            return\n",
        "        self.chat()\n",
        "\n",
        "    def make_exit(self, reply):\n",
        "        for command in self.exit_commands:\n",
        "            if reply == command:\n",
        "                print(\"Okay, have a nice Earth day!\")\n",
        "                return True\n",
        "        return False\n",
        "\n",
        "    def chat(self):\n",
        "        reply = input(random.choice(self.random_questions)).lower()\n",
        "        while not self.make_exit(reply):\n",
        "            reply = input(self.match_reply(reply)).lower()\n",
        "\n",
        "    def match_reply(self, reply):\n",
        "        for key, value in self.alienbabble.items():\n",
        "            regex_pattern = value\n",
        "            found_match = re.match(regex_pattern, reply)\n",
        "            if found_match:\n",
        "                if key == \"describe_planet_intent\":\n",
        "                    return self.describe_planet_intent()\n",
        "                elif key == \"answer_why_intent\":\n",
        "                    return self.answer_why_intent()\n",
        "                elif key == \"about_intellipat\":\n",
        "                    return self.about_intellipat()\n",
        "        return self.no_match_intent()\n",
        "\n",
        "    def describe_planet_intent(self):\n",
        "        responses = (\n",
        "            \"My planet is a Utopia of diverse organisms and species.\\n\",\n",
        "            \"I am from Opidipus, the capital of the wayward galaxy.\\n\"\n",
        "        )\n",
        "        return random.choice(responses)\n",
        "\n",
        "    def answer_why_intent(self):\n",
        "        responses = (\n",
        "            \"I come in peace.\\n\",\n",
        "            \"I am here to collect data regarding your planet and habitation.\\n\",\n",
        "            \"I heard the college is good.\\n\"\n",
        "        )\n",
        "        return random.choice(responses)\n",
        "\n",
        "    def about_intellipat(self):\n",
        "        responses = (\n",
        "            \"Intellipath is the world's largest educational company.\\n\",\n",
        "            \"Intellipath will help you learn things.\\n\",\n",
        "            \"Intellipath is where your skills and career will grow.\\n\"\n",
        "        )\n",
        "        return random.choice(responses)\n",
        "\n",
        "    def no_match_intent(self):\n",
        "        responses = (\n",
        "            \"Please tell me more.\\n\",\n",
        "            \"Why do you say that?\\n\",\n",
        "            \"Can you elaborate?\\n\",\n",
        "            \"Interesting. Can you tell me more?\\n\",\n",
        "            \"I see, how do you think?\\n\",\n",
        "            \"Why?\\n\",\n",
        "            \"How do you think I feel when you say that?\\n\"\n",
        "        )\n",
        "        return random.choice(responses)\n",
        "\n",
        "# Create an instance of RuleBot and start the interaction\n",
        "AlienBot = RuleBot()\n",
        "AlienBot.greet()"
      ]
    }
  ]
}